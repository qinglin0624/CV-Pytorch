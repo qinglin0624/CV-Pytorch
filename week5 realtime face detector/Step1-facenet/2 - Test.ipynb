{
 "cells": [
  {
   "cell_type": "markdown",
   "metadata": {},
   "source": [
    "# Test\n",
    "**FaceNet** &ensp;&ensp;vs&ensp;&ensp;**ResNet18 easy**"
   ]
  },
  {
   "cell_type": "code",
   "execution_count": 1,
   "metadata": {
    "_cell_guid": "79c7e3d0-c299-4dcb-8224-4455121ee9b0",
    "_uuid": "d629ff2d2480ee46fbb7e2d37f6b5fab8052498a"
   },
   "outputs": [],
   "source": [
    "from __future__ import print_function, division\n",
    "import torch\n",
    "import torch.nn as nn\n",
    "import torch.optim as optim\n",
    "from torch.optim import lr_scheduler\n",
    "import numpy as np\n",
    "import torchvision\n",
    "from scipy.ndimage.interpolation import map_coordinates\n",
    "from scipy.ndimage.filters import gaussian_filter\n",
    "from torchvision import datasets, models, transforms\n",
    "from torchvision.transforms import ToPILImage\n",
    "import torchvision.transforms.functional as tf\n",
    "import matplotlib.pyplot as plt\n",
    "from torch.autograd import Variable\n",
    "import pandas as pd\n",
    "import seaborn as sns\n",
    "from math import sqrt\n",
    "from PIL import Image\n",
    "from torch.nn import functional as F\n",
    "import torch.utils.data as data\n",
    "from torch.utils.data import DataLoader\n",
    "from sklearn.metrics import roc_curve, auc\n",
    "import time\n",
    "import os\n",
    "import math\n",
    "import copy\n",
    "import json\n",
    "import random"
   ]
  },
  {
   "cell_type": "markdown",
   "metadata": {},
   "source": [
    "## ResNet18"
   ]
  },
  {
   "cell_type": "code",
   "execution_count": 2,
   "metadata": {},
   "outputs": [],
   "source": [
    "# ResNet with available versions: 18, 34, 50, 101,152\n",
    "\n",
    "# block for small version of resnet\n",
    "class Block_s(nn.Module):\n",
    "    def __init__(self, in_planes, out_planes, stride=1, downsample=None):\n",
    "        super(Block_s,self).__init__()\n",
    "        self.conv1 = nn.Conv2d(in_planes, out_planes, kernel_size=3, stride=stride, padding=1, bias=False)\n",
    "        self.bn1   = nn.BatchNorm2d(out_planes)\n",
    "        self.relu  = nn.ReLU(inplace=True)\n",
    "        self.conv2 = nn.Conv2d(out_planes, out_planes, kernel_size=3, stride=1, padding=1, bias=False)  \n",
    "        self.bn2   = nn.BatchNorm2d(out_planes)\n",
    "        self.downsample = downsample\n",
    "        \n",
    "    def forward(self,x):\n",
    "        residual = x\n",
    "        out = self.conv1(x)\n",
    "        out = self.bn1(out)\n",
    "        out = self.relu(out)\n",
    "        out = self.conv2(out)\n",
    "        out = self.bn2(out)\n",
    "        if self.downsample is not None:\n",
    "            residual = self.downsample(x)\n",
    "        out += residual\n",
    "        out = self.relu(out)\n",
    "        \n",
    "        return out\n",
    "    \n",
    "# block for large version of resnet\n",
    "class Block_l(nn.Module):\n",
    "    def __init__(self, in_planes, out_planes, stride=1, downsample=None):\n",
    "        super(Block_l,self).__init__()\n",
    "        self.conv1 = nn.Conv2d(in_planes, out_planes, kernel_size=1, stride=1, bias=False)\n",
    "        self.bn1   = nn.BatchNorm2d(out_planes)\n",
    "        self.conv2 = nn.Conv2d(out_planes, out_planes, kernel_size=3, stride=stride, padding=1, bias=False)  \n",
    "        self.bn2   = nn.BatchNorm2d(out_planes)\n",
    "        self.conv3 = nn.Conv2d(out_planes, out_planes*4, kernel_size=1, stride=1, bias=False)\n",
    "        self.bn3   = nn.BatchNorm2d(out_planes*4)\n",
    "        self.relu  = nn.ReLU(inplace=True)\n",
    "        self.downsample = downsample\n",
    "        \n",
    "    def forward(self,x):\n",
    "        residual = x\n",
    "        out = self.conv1(x)\n",
    "        out = self.bn1(out)\n",
    "        out = self.relu(out)\n",
    "        out = self.conv2(out)\n",
    "        out = self.bn2(out)\n",
    "        out = self.relu(out)\n",
    "        out = self.conv3(out)\n",
    "        out = self.bn3(out)\n",
    "        if self.downsample is not None:\n",
    "            residual = self.downsample(x)\n",
    "        out += residual\n",
    "        out = self.relu(out)\n",
    "        \n",
    "        return out\n",
    "        \n",
    "        \n",
    "class Resnet(nn.Module):\n",
    "    def __init__(self, version=18, num_classes=128):\n",
    "        self.v = version\n",
    "        self.v_dic = {18:[2,2,2,2,512], 34:[3,4,6,3,512], 50:[3,4,6,3,2048], 101:[3,4,23,3,2048], 152:[3,8,36,3,2048]}\n",
    "        self.in_planes = 64\n",
    "        \n",
    "        super(Resnet,self).__init__()\n",
    "        self.conv1 = nn.Conv2d(3, 64, kernel_size=7, stride=2, padding=3, bias=False)\n",
    "        self.bn1 = nn.BatchNorm2d(64)\n",
    "        self.relu = nn.ReLU(inplace=True)\n",
    "        self.maxPool = nn.MaxPool2d(kernel_size=3, stride=2, padding=1) \n",
    "        self.conv2_x = self.make_layers(self.v_dic[version][0], stride=1, planes=64)\n",
    "        self.conv3_x = self.make_layers(self.v_dic[version][1], stride=2, planes=128)\n",
    "        self.conv4_x = self.make_layers(self.v_dic[version][2], stride=2, planes=256)\n",
    "        self.conv5_x = self.make_layers(self.v_dic[version][3], stride=2, planes=512)\n",
    "        self.avgpool = nn.AdaptiveAvgPool2d(output_size=(1, 1))\n",
    "        self.fc = nn.Linear(self.v_dic[version][4], num_classes)\n",
    "\n",
    "        for m in self.modules():\n",
    "            if isinstance(m, nn.Conv2d):\n",
    "                nn.init.kaiming_normal_(m.weight, mode='fan_out', nonlinearity='relu')\n",
    "            elif isinstance(m, nn.BatchNorm2d):\n",
    "                nn.init.constant_(m.weight, 1)\n",
    "                nn.init.constant_(m.bias, 0)\n",
    "        \n",
    "    def make_layers(self, repeat_times, stride, planes):\n",
    "        if self.v < 50:\n",
    "            downsample = None\n",
    "            if stride!=1:\n",
    "                downsample = nn.Sequential(\n",
    "                    nn.Conv2d(self.in_planes, planes, kernel_size=1, stride=stride, bias=False),\n",
    "                    nn.BatchNorm2d(planes)\n",
    "                )\n",
    "            layers=[]\n",
    "            layers.append(Block_s(self.in_planes, planes, stride, downsample))\n",
    "            self.in_planes = planes\n",
    "            for i in range(repeat_times-1):\n",
    "                layers.append(Block_s(self.in_planes, planes))\n",
    "            return nn.Sequential(*layers)\n",
    "            \n",
    "        else:\n",
    "            downsample = nn.Sequential(\n",
    "                    nn.Conv2d(self.in_planes, planes*4,kernel_size=1, stride=stride, bias=False),\n",
    "                    nn.BatchNorm2d(planes*4)\n",
    "            )\n",
    "            layers=[]\n",
    "            layers.append(Block_l(self.in_planes, planes, stride, downsample))\n",
    "            self.in_planes = planes*4\n",
    "            for i in range(repeat_times-1):\n",
    "                layers.append(Block_l(self.in_planes, planes))\n",
    "            return nn.Sequential(*layers)\n",
    "    \n",
    "    def forward(self,x):\n",
    "        x = self.conv1(x)\n",
    "        x = self.bn1(x)\n",
    "        x = self.relu(x)\n",
    "        x = self.maxPool(x)\n",
    "        x = self.conv2_x(x)\n",
    "        x = self.conv3_x(x)\n",
    "        x = self.conv4_x(x)\n",
    "        x = self.conv5_x(x)\n",
    "        x = self.avgpool(x)\n",
    "        x = x.view(x.size(0),-1)\n",
    "        x =self.fc(x)\n",
    "        \n",
    "        return x"
   ]
  },
  {
   "cell_type": "markdown",
   "metadata": {},
   "source": [
    "## FaceNet"
   ]
  },
  {
   "cell_type": "code",
   "execution_count": 3,
   "metadata": {},
   "outputs": [],
   "source": [
    "class FaceNet(nn.Module):\n",
    "    def __init__(self):\n",
    "        super(FaceNet, self).__init__()\n",
    "\n",
    "        self.model = models.resnet18()\n",
    "        self.model.fc = nn.Linear(25088, 128)\n",
    "\n",
    "    def l2_norm(self,input):\n",
    "        input_size = input.size()\n",
    "        buffer = torch.pow(input, 2)\n",
    "        normp = torch.sum(buffer, 1).add_(1e-10)\n",
    "        norm = torch.sqrt(normp)\n",
    "        _output = torch.div(input, norm.view(-1, 1).expand_as(input))\n",
    "        output = _output.view(input_size)\n",
    "        return output\n",
    "\n",
    "    \n",
    "    def forward(self, x):\n",
    "\n",
    "        x = self.model.conv1(x)\n",
    "        x = self.model.bn1(x)\n",
    "        x = self.model.relu(x)\n",
    "        x = self.model.maxpool(x)\n",
    "        x = self.model.layer1(x)\n",
    "        x = self.model.layer2(x)\n",
    "        x = self.model.layer3(x)\n",
    "        x = self.model.layer4(x)\n",
    "        x = x.view(x.size(0), -1)\n",
    "        x = self.model.fc(x)\n",
    "        self.features = self.l2_norm(x)\n",
    "        self.features = self.features * 10\n",
    "\n",
    "        return self.features"
   ]
  },
  {
   "cell_type": "markdown",
   "metadata": {},
   "source": [
    "## Test Dataset\n",
    "This dataset reads the pairsDevTest.txt and the models will determine whether the pairs given by the dataset are images of the same person. As for the ground truth, label = 1 if yes and 0 if no."
   ]
  },
  {
   "cell_type": "code",
   "execution_count": 4,
   "metadata": {},
   "outputs": [],
   "source": [
    "class Testset(data.Dataset):\n",
    "    \n",
    "    def __init__(self):\n",
    "        \n",
    "        self.root = '../input/lfwaligned/test2/test2'\n",
    "        self.result = []\n",
    "        \n",
    "        file = open('../input/lfwaligned/pairsDevTest.txt')\n",
    "        lines = file.readlines()\n",
    "\n",
    "        for count,line in enumerate(lines):\n",
    "\n",
    "            line = line.strip().split()\n",
    "            \n",
    "            if len(line)==1:\n",
    "                continue\n",
    "                \n",
    "            elif len(line)==3:\n",
    "                label = 1\n",
    "                img, id1, id2 = line\n",
    "                img1 = img + '_' + ('000'+ id1)[-4:] + '.jpg'\n",
    "                img2 = img + '_' + ('000'+ id2)[-4:] + '.jpg'\n",
    "                \n",
    "            elif len(line)==4:\n",
    "                label = 0\n",
    "                img1, id1, img2, id2 = line\n",
    "                img1 = img1 + '_' + ('000'+ id1)[-4:] + '.jpg'\n",
    "                img2 = img2 + '_' + ('000'+ id2)[-4:] + '.jpg'\n",
    "  \n",
    "            self.result.append([img1,img2,label])\n",
    "        \n",
    "        \n",
    "    def __getitem__(self, index):\n",
    "        \n",
    "        img1, img2, label = self.result[index]\n",
    "        \n",
    "        img1 = Image.open(os.path.join(self.root,img1))\n",
    "        img1 = tf.resize(img1, (224,224))\n",
    "        img1 = tf.to_tensor(img1)\n",
    "        img1 = tf.normalize(img1, [0.485, 0.456, 0.406], [0.229, 0.224, 0.225])\n",
    "        img1 = img1.expand(1,3,224,224)\n",
    "        \n",
    "        img2 = Image.open(os.path.join(self.root,img2))\n",
    "        img2 = tf.resize(img2, (224,224))\n",
    "        img2 = tf.to_tensor(img2)\n",
    "        img2 = tf.normalize(img2, [0.485, 0.456, 0.406], [0.229, 0.224, 0.225])\n",
    "        img2 = img2.expand(1,3,224,224)\n",
    "        \n",
    "        return img1, img2, label\n",
    "   \n",
    "\n",
    "    def __len__(self):\n",
    "        return len(self.result)"
   ]
  },
  {
   "cell_type": "code",
   "execution_count": 5,
   "metadata": {},
   "outputs": [],
   "source": [
    "import operator\n",
    "from sklearn.model_selection import KFold\n",
    "from scipy import interpolate\n",
    "\n",
    "def evaluate(distances, labels, nrof_folds=10):\n",
    "    thresholds=np.arange(0, 30, 0.01)\n",
    "    nrof_pairs = min(len(labels), len(distances))\n",
    "    nrof_thresholds = len(thresholds)\n",
    "    k_fold = KFold(n_splits=nrof_folds, shuffle=True)\n",
    "\n",
    "    tprs = np.zeros((nrof_folds,nrof_thresholds))\n",
    "    fprs = np.zeros((nrof_folds,nrof_thresholds))\n",
    "    accuracy = np.zeros((nrof_folds))\n",
    "\n",
    "    indices = np.arange(nrof_pairs)\n",
    "\n",
    "    for fold_idx, (train_set, test_set) in enumerate(k_fold.split(indices)):\n",
    "\n",
    "        # Find the best threshold for the fold\n",
    "        acc_train = np.zeros((nrof_thresholds))\n",
    "        for threshold_idx, threshold in enumerate(thresholds):\n",
    "            _, _, acc_train[threshold_idx] = calculate_accuracy(threshold, distances[train_set], labels[train_set])\n",
    "        best_threshold_index = np.argmax(acc_train)\n",
    "        for threshold_idx, threshold in enumerate(thresholds):\n",
    "            tprs[fold_idx,threshold_idx], fprs[fold_idx,threshold_idx], _ = calculate_accuracy(threshold, distances[test_set], labels[test_set])\n",
    "        _, _, accuracy[fold_idx] = calculate_accuracy(thresholds[best_threshold_index], distances[test_set], labels[test_set])\n",
    "\n",
    "        tpr = np.mean(tprs,0)\n",
    "        fpr = np.mean(fprs,0)\n",
    "    accuracy = np.mean(accuracy)\n",
    "    return tpr, fpr, accuracy, thresholds[best_threshold_index]\n",
    "\n",
    "\n",
    "def calculate_accuracy(threshold, dist, actual_issame):\n",
    "    predict_issame = np.less(dist, threshold)\n",
    "    tp = np.sum(np.logical_and(predict_issame, actual_issame))\n",
    "    fp = np.sum(np.logical_and(predict_issame, np.logical_not(actual_issame)))\n",
    "    tn = np.sum(np.logical_and(np.logical_not(predict_issame), np.logical_not(actual_issame)))\n",
    "    fn = np.sum(np.logical_and(np.logical_not(predict_issame), actual_issame))\n",
    "\n",
    "    tpr = 0 if (tp+fn==0) else float(tp) / float(tp+fn)\n",
    "    fpr = 0 if (fp+tn==0) else float(fp) / float(fp+tn)\n",
    "    acc = float(tp+tn)/dist.size\n",
    "    return tpr, fpr, acc"
   ]
  },
  {
   "cell_type": "code",
   "execution_count": 6,
   "metadata": {},
   "outputs": [],
   "source": [
    "def plot_roc(fpr,tpr):\n",
    "    fig = plt.figure(figsize=(4.8,4.8))\n",
    "    lw = 2\n",
    "    roc_auc = auc(fpr, tpr)\n",
    "    plt.plot(fpr, tpr, color='r',\n",
    "             lw=lw, label='test ROC (area = %0.2f)' % roc_auc)\n",
    "    plt.plot([0, 1], [0, 1], color='black', lw=lw, linestyle='--')\n",
    "    plt.xlim([0.0, 1.0])\n",
    "    plt.ylim([0.0, 1.05])\n",
    "    plt.xlabel('False Positive Rate')\n",
    "    plt.ylabel('True Positive Rate')\n",
    "    plt.title('Receiver operating characteristic')\n",
    "    plt.legend(loc=\"lower right\")"
   ]
  },
  {
   "cell_type": "code",
   "execution_count": 7,
   "metadata": {},
   "outputs": [],
   "source": [
    "def L2_distance(x1,x2):\n",
    "    assert x1.size() == x2.size()\n",
    "    eps = 1e-4 / x1.size(1)\n",
    "    diff = torch.abs(x1 - x2)\n",
    "    out = torch.pow(diff, 2).sum(dim=1)\n",
    "    return torch.pow(out + eps, 1./2).item()\n",
    "\n",
    "# def test_model(model, threshold, trace = False):\n",
    "def test_model(model):\n",
    "    model.eval()\n",
    "    distances = []\n",
    "    labels = []\n",
    "#     falses = []\n",
    "    for i in range(len(testset)):\n",
    "        if i%200==0:\n",
    "            print('working on ' + str(i))\n",
    "        img1, img2, label = testset[i]\n",
    "        labels.append(label)\n",
    "        img1, img2 = img1.to(device), img2.to(device)\n",
    "        out1, out2 = model(img1), model(img2)\n",
    "        dist = L2_distance(out1,out2)\n",
    "#         pred = (dist < threshold)\n",
    "#         if pred != label:\n",
    "#             falses.append(i)\n",
    "        distances.append(dist)\n",
    "\n",
    "    tpr, fpr, acc, threshold = evaluate(np.array(distances),np.array(labels))\n",
    "    print('test accuracy: {:.4f} threshold: {:.4f}'.format(acc, threshold))\n",
    "#     if trace:\n",
    "#         return falses, distances, labels, tpr, fpr\n",
    "    return distances, labels, tpr, fpr"
   ]
  },
  {
   "cell_type": "markdown",
   "metadata": {},
   "source": [
    "Here are the FaceNet and ResNet18 finalized."
   ]
  },
  {
   "cell_type": "code",
   "execution_count": 8,
   "metadata": {},
   "outputs": [
    {
     "data": {
      "text/plain": [
       "<All keys matched successfully>"
      ]
     },
     "execution_count": 8,
     "metadata": {},
     "output_type": "execute_result"
    }
   ],
   "source": [
    "device = torch.device('cuda:0')\n",
    "\n",
    "testset = Testset()\n",
    "\n",
    "model1 = FaceNet().to(device)\n",
    "model1.load_state_dict(torch.load('../input/lfwaligned/FN.pth'))\n",
    "\n",
    "model2 = Resnet().to(device)\n",
    "model2.load_state_dict(torch.load('../input/lfwaligned/RN_easy.pth'))"
   ]
  },
  {
   "cell_type": "markdown",
   "metadata": {},
   "source": [
    "## Test and plot"
   ]
  },
  {
   "cell_type": "code",
   "execution_count": 9,
   "metadata": {},
   "outputs": [
    {
     "name": "stdout",
     "output_type": "stream",
     "text": [
      "working on 0\n",
      "working on 200\n",
      "working on 400\n",
      "working on 600\n",
      "working on 800\n",
      "test accuracy: 0.7350 threshold: 3.9100\n"
     ]
    }
   ],
   "source": [
    "distances1, labels1, tpr1, fpr1 = test_model(model1)"
   ]
  },
  {
   "cell_type": "code",
   "execution_count": 10,
   "metadata": {},
   "outputs": [
    {
     "data": {
      "image/png": "[encoded data removed]",
      "text/plain": [
       "<Figure size 432x288 with 1 Axes>"
      ]
     },
     "metadata": {
      "needs_background": "light"
     },
     "output_type": "display_data"
    },
    {
     "data": {
      "image/png": "[encoded data removed]",
      "text/plain": [
       "<Figure size 345.6x345.6 with 1 Axes>"
      ]
     },
     "metadata": {
      "needs_background": "light"
     },
     "output_type": "display_data"
    }
   ],
   "source": [
    "plt.scatter(distances1,labels1,s=0.5);\n",
    "plot_roc(fpr1,tpr1);"
   ]
  },
  {
   "cell_type": "code",
   "execution_count": 11,
   "metadata": {},
   "outputs": [
    {
     "name": "stdout",
     "output_type": "stream",
     "text": [
      "working on 0\n",
      "working on 200\n",
      "working on 400\n",
      "working on 600\n",
      "working on 800\n",
      "test accuracy: 0.7370 threshold: 2.5100\n"
     ]
    }
   ],
   "source": [
    "distances2, labels2, tpr2, fpr2 = test_model(model2)"
   ]
  },
  {
   "cell_type": "code",
   "execution_count": 12,
   "metadata": {},
   "outputs": [
    {
     "data": {
      "image/png": "[encoded data removed]",
      "text/plain": [
       "<Figure size 432x288 with 1 Axes>"
      ]
     },
     "metadata": {
      "needs_background": "light"
     },
     "output_type": "display_data"
    },
    {
     "data": {
      "image/png": "[encoded data removed]",
      "text/plain": [
       "<Figure size 345.6x345.6 with 1 Axes>"
      ]
     },
     "metadata": {
      "needs_background": "light"
     },
     "output_type": "display_data"
    }
   ],
   "source": [
    "plt.scatter(distances2,labels2,s=0.5);\n",
    "plot_roc(fpr2,tpr2);"
   ]
  },
  {
   "cell_type": "code",
   "execution_count": 13,
   "metadata": {},
   "outputs": [],
   "source": [
    "statistics = {'embedding':[distances1, labels1, list(tpr1),list(fpr1)],'classifier':[distances2, labels2, list(tpr2),list(fpr2)]}\n",
    "json.dump(statistics, open('compare.json', 'w'))"
   ]
  }
 ],
 "metadata": {
  "kernelspec": {
   "display_name": "Python 3",
   "language": "python",
   "name": "python3"
  },
  "language_info": {
   "codemirror_mode": {
    "name": "ipython",
    "version": 3
   },
   "file_extension": ".py",
   "mimetype": "text/x-python",
   "name": "python",
   "nbconvert_exporter": "python",
   "pygments_lexer": "ipython3",
   "version": "3.7.1"
  }
 },
 "nbformat": 4,
 "nbformat_minor": 4
}
