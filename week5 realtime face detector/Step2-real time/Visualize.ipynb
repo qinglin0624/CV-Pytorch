{
 "cells": [
  {
   "cell_type": "markdown",
   "metadata": {},
   "source": [
    "# Visualize\n",
    "Please note that only visualization is carried out here and it has to be run on a local computer.\n",
    "All the information needed for visualization is stored in a dictionary, which contains three keys: `'face_bbox'`, `'face_ldmk'` and `'face_names'`. The value of each key is a list whose length is equal to the number of frames of the video. For example,\n",
    "```\n",
    "statistics['face_bbox'][5] gives all the predicted bounding boxes in the fifth frame of the video\n",
    "statistics['face_names'][5] gives all the corresponding predicted names in the fifth frame of the video\n",
    "```\n",
    "However, when a local computer is equipped with GPU, it is not necessary to pre-record the video and store the dictionary. Please refer to the notebooks that carry out processing for more information."
   ]
  },
  {
   "cell_type": "code",
   "execution_count": 1,
   "metadata": {},
   "outputs": [],
   "source": [
    "from PIL import Image\n",
    "import numpy as np\n",
    "import os\n",
    "import cv2\n",
    "import json"
   ]
  },
  {
   "cell_type": "code",
   "execution_count": 2,
   "metadata": {},
   "outputs": [],
   "source": [
    "statistics = json.load(open('realtime-singlethread-shawshank.json'))\n",
    "face_bbox = statistics['face_bbox']\n",
    "face_ldmk = statistics['face_ldmk']\n",
    "face_names = statistics['face_names']\n",
    "length = len(face_names)"
   ]
  },
  {
   "cell_type": "code",
   "execution_count": 3,
   "metadata": {},
   "outputs": [],
   "source": [
    "video_capture = cv2.VideoCapture('The Shawshank Redemption.mp4')\n",
    "\n",
    "w = int(video_capture.get(3))\n",
    "h = int(video_capture.get(4))\n",
    "fourcc = cv2.VideoWriter_fourcc(*'DIVX')\n",
    "outvideo = cv2.VideoWriter('output-shawshank.mp4', fourcc, 50.0, (w, h))\n",
    "\n",
    "for i in range(length):\n",
    "    ret, frame = video_capture.read()\n",
    "    if not ret:\n",
    "        break\n",
    "\n",
    "    o_bounding_boxes = face_bbox[i]\n",
    "    face_names = face_embd[i]\n",
    "    if o_bounding_boxes is not None:\n",
    "        for (left, top, right, bottom, prob), (name, dist) in zip(o_bounding_boxes, face_names):\n",
    "\n",
    "            top, right, bottom, left = int(4*top), int(4*right), int(4*bottom), int(4*left)\n",
    "            cv2.rectangle(frame, (left, top), (right, bottom), (0, 0, 255), 2)\n",
    "            cv2.rectangle(frame, (left, bottom - 35), (right, bottom), (0, 0, 255), cv2.FILLED)\n",
    "            font = cv2.FONT_HERSHEY_DUPLEX\n",
    "            cv2.putText(frame, name, (left + 6, bottom - 6), font, 1.0, (255, 255, 255), 1)\n",
    "    \n",
    "    outvideo.write(frame)\n",
    "    cv2.imshow('Video', frame)\n",
    "    cv2.waitKey(25)\n",
    "#     if cv2.waitKey(1) & 0xFF == ord('q'):\n",
    "#         break\n",
    "\n",
    "outvideo.release()\n",
    "video_capture.release()\n",
    "cv2.destroyAllWindows()"
   ]
  },
  {
   "cell_type": "code",
   "execution_count": null,
   "metadata": {},
   "outputs": [],
   "source": []
  }
 ],
 "metadata": {
  "kernelspec": {
   "display_name": "Python 3",
   "language": "python",
   "name": "python3"
  },
  "language_info": {
   "codemirror_mode": {
    "name": "ipython",
    "version": 3
   },
   "file_extension": ".py",
   "mimetype": "text/x-python",
   "name": "python",
   "nbconvert_exporter": "python",
   "pygments_lexer": "ipython3",
   "version": "3.7.1"
  }
 },
 "nbformat": 4,
 "nbformat_minor": 2
}
